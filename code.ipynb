{
 "cells": [
  {
   "cell_type": "code",
   "execution_count": 1,
   "metadata": {},
   "outputs": [],
   "source": [
    "import pandas as pd"
   ]
  },
  {
   "cell_type": "code",
   "execution_count": 139,
   "metadata": {},
   "outputs": [],
   "source": [
    "df1=pd.read_csv(\"/Users/suryashukla/Desktop/Data/Assignment_Data.csv\")\n",
    "df2=pd.read_csv(\"/Users/suryashukla/Desktop/Data/Delivery_Partners_Data.csv\")"
   ]
  },
  {
   "cell_type": "code",
   "execution_count": 3,
   "metadata": {},
   "outputs": [
    {
     "data": {
      "text/plain": [
       "<bound method NDFrame.head of         ORDER_ID    DE_ID    ASSIGNMENT_START_TIME      ASSIGNMENT_END_TIME  \\\n",
       "0           2745   180976  2021-02-13 03:08:24.000  2021-02-13 03:38:26.000   \n",
       "1           9462   280243  2021-02-14 05:06:40.000  2021-02-14 05:31:04.000   \n",
       "2          14071   339813  2021-02-15 02:22:40.000  2021-02-15 02:44:02.000   \n",
       "3          14442  1315348  2021-02-15 03:01:25.000  2021-02-15 03:15:02.000   \n",
       "4          14515  1186729  2021-02-15 03:12:24.000  2021-02-15 03:50:24.000   \n",
       "...          ...      ...                      ...                      ...   \n",
       "132389    116618  1273445  2021-03-04 07:07:20.000  2021-03-04 07:37:54.000   \n",
       "132390    116618   234637  2021-03-04 07:05:20.000  2021-03-04 07:07:19.000   \n",
       "132391    118004  1018931  2021-03-04 20:47:34.000  2021-03-04 21:07:35.000   \n",
       "132392    119366  1180245  2021-03-04 23:37:20.000  2021-03-05 00:01:34.000   \n",
       "132393    121027   370946  2021-03-05 02:29:21.000  2021-03-05 02:52:50.000   \n",
       "\n",
       "        reject_ind reject_type              PLACED_TIME  \\\n",
       "0                0         NaN  2021-02-13 03:01:11.686   \n",
       "1                0         NaN  2021-02-14 04:54:25.832   \n",
       "2                0         NaN  2021-02-15 02:01:17.864   \n",
       "3                0         NaN  2021-02-15 02:43:41.129   \n",
       "4                0         NaN  2021-02-15 02:48:17.074   \n",
       "...            ...         ...                      ...   \n",
       "132389           0         NaN  2021-03-04 06:55:15.466   \n",
       "132390           1      Type-1  2021-03-04 06:55:15.466   \n",
       "132391           0         NaN  2021-03-04 20:41:54.521   \n",
       "132392           0         NaN  2021-03-04 23:35:22.194   \n",
       "132393           0         NaN  2021-03-05 02:28:08.182   \n",
       "\n",
       "                 DELIVERED_TIME  LASTMILE_DISTANCE  FIRSTMILE_DISTANCE  \\\n",
       "0       2021-02-13 03:43:26.000              320.9               320.0   \n",
       "1       2021-02-14 05:36:04.000              516.8               342.5   \n",
       "2       2021-02-15 02:49:02.000              459.5               418.7   \n",
       "3       2021-02-15 03:20:02.000              376.4               332.9   \n",
       "4       2021-02-15 03:55:24.000              414.5               334.1   \n",
       "...                         ...                ...                 ...   \n",
       "132389  2021-03-04 07:42:54.000              404.6               434.6   \n",
       "132390  2021-03-04 07:42:54.000              404.6               444.8   \n",
       "132391  2021-03-04 21:12:35.000              475.7               334.7   \n",
       "132392  2021-03-05 00:06:34.000              326.6               392.9   \n",
       "132393  2021-03-05 02:57:50.000              429.5               337.1   \n",
       "\n",
       "        LAST_MILE_TIME_PREDICTED  PAYOUT_MADE_TO_DE  NUM_PING_COUNT_LAST10MIN  \\\n",
       "0                          314.0             1810.0                        63   \n",
       "1                          451.0             3210.0                        27   \n",
       "2                          443.0             2910.0                        57   \n",
       "3                          367.3             3210.0                        41   \n",
       "4                          413.2             3210.0                        13   \n",
       "...                          ...                ...                       ...   \n",
       "132389                     371.8             3860.0                        28   \n",
       "132390                     371.8                0.0                        63   \n",
       "132391                     413.2             2660.0                         8   \n",
       "132392                     317.7             2260.0                        28   \n",
       "132393                     396.8             2160.0                        27   \n",
       "\n",
       "       LAST_PING_TIME_LAST10MIN  CUSTOMER_ZONE  CUSTOMER_LAT  CUSTOMER_LNG  \n",
       "0       2021-02-13 03:07:34.000          373.0     37.377569     72.832560  \n",
       "1       2021-02-14 05:06:40.000          373.0     37.380613     72.796909  \n",
       "2       2021-02-15 02:22:35.000          373.0     37.372032     72.805871  \n",
       "3       2021-02-15 03:00:28.000          373.0     37.371380     72.819992  \n",
       "4       2021-02-15 03:12:09.000          373.0     37.369925     72.826764  \n",
       "...                         ...            ...           ...           ...  \n",
       "132389  2021-03-04 07:06:25.000          374.0     37.365616     72.835463  \n",
       "132390  2021-03-04 07:04:40.000          374.0     37.365616     72.835463  \n",
       "132391  2021-03-04 20:45:39.000          374.0     37.362292     72.861723  \n",
       "132392  2021-03-04 23:37:14.000          374.0     37.365457     72.862098  \n",
       "132393  2021-03-05 02:28:17.000          374.0     37.371853     72.855686  \n",
       "\n",
       "[132394 rows x 17 columns]>"
      ]
     },
     "execution_count": 3,
     "metadata": {},
     "output_type": "execute_result"
    }
   ],
   "source": [
    "df1.head"
   ]
  },
  {
   "cell_type": "code",
   "execution_count": 4,
   "metadata": {},
   "outputs": [
    {
     "data": {
      "text/plain": [
       "<bound method NDFrame.head of        DE_ID SHIFT_END_TIME  DE_HOME_LAT  DE_HOME_LNG DE_JOINING_DATE  \\\n",
       "0     141533          06:42    37.390427    72.849424      2019-09-20   \n",
       "1     235942          08:42    37.372289    72.885341      2020-03-15   \n",
       "2     973234          06:42    37.410268    72.853610      2018-12-21   \n",
       "3     973473          05:42    37.397067    72.872533      2018-12-21   \n",
       "4    1016546          06:42    37.425545    72.895137      2019-01-11   \n",
       "..       ...            ...          ...          ...             ...   \n",
       "986   362691          05:42    37.374788    72.861131      2020-08-14   \n",
       "987   369684          06:42    37.365671    72.861327      2020-08-21   \n",
       "988   395572          06:42    37.399884    72.874896      2020-09-15   \n",
       "989  1180245          01:42    37.380950    72.865009      2019-04-01   \n",
       "990  1287838          06:42    37.450972    72.888596      2019-05-20   \n",
       "\n",
       "     DE_ZONE_ID  \n",
       "0           372  \n",
       "1           372  \n",
       "2           375  \n",
       "3           624  \n",
       "4           668  \n",
       "..          ...  \n",
       "986         372  \n",
       "987         374  \n",
       "988         624  \n",
       "989         372  \n",
       "990         375  \n",
       "\n",
       "[991 rows x 6 columns]>"
      ]
     },
     "execution_count": 4,
     "metadata": {},
     "output_type": "execute_result"
    }
   ],
   "source": [
    "df2.head"
   ]
  },
  {
   "cell_type": "code",
   "execution_count": 140,
   "metadata": {},
   "outputs": [],
   "source": [
    "rejected_orders=df1[df1['reject_ind']==1]\n",
    "accepted_orders=df1[df1['reject_ind']==0]"
   ]
  },
  {
   "cell_type": "code",
   "execution_count": 8,
   "metadata": {},
   "outputs": [
    {
     "data": {
      "text/plain": [
       "6.078825324410472"
      ]
     },
     "execution_count": 8,
     "metadata": {},
     "output_type": "execute_result"
    }
   ],
   "source": [
    "(len(rejected_orders)/(len(accepted_orders)+len(rejected_orders))*100)"
   ]
  },
  {
   "cell_type": "markdown",
   "metadata": {},
   "source": [
    "Therefore, around 6 orders per 100 are being rejected by delivery partners"
   ]
  },
  {
   "cell_type": "code",
   "execution_count": 12,
   "metadata": {},
   "outputs": [],
   "source": [
    "import matplotlib.pyplot as plt"
   ]
  },
  {
   "cell_type": "code",
   "execution_count": 14,
   "metadata": {},
   "outputs": [
    {
     "data": {
      "text/plain": [
       "8048"
      ]
     },
     "execution_count": 14,
     "metadata": {},
     "output_type": "execute_result"
    }
   ],
   "source": [
    "len(rejected_orders)"
   ]
  },
  {
   "cell_type": "code",
   "execution_count": 15,
   "metadata": {},
   "outputs": [
    {
     "data": {
      "text/plain": [
       "<AxesSubplot:>"
      ]
     },
     "execution_count": 15,
     "metadata": {},
     "output_type": "execute_result"
    },
    {
     "data": {
      "image/png": "[encoded data removed]",
      "text/plain": [
       "<Figure size 432x288 with 1 Axes>"
      ]
     },
     "metadata": {
      "needs_background": "light"
     },
     "output_type": "display_data"
    }
   ],
   "source": [
    "fig, ax = plt.subplots()\n",
    "rejected_orders['DE_ID'].value_counts().plot(ax=ax, kind='bar')"
   ]
  },
  {
   "cell_type": "markdown",
   "metadata": {},
   "source": [
    "By plotting number of rejected orders with the DE_ID of the delivery partner, we can clearly see that some delivery partner are rejecting more orders than the others. This could be because of variety of reasons. We should plot the percentage of rejected orders with DE_ID to see if some delivery partners are rejecting more orders than others."
   ]
  },
  {
   "cell_type": "code",
   "execution_count": 78,
   "metadata": {},
   "outputs": [
    {
     "data": {
      "text/html": [
       "<div>\n",
       "<style scoped>\n",
       "    .dataframe tbody tr th:only-of-type {\n",
       "        vertical-align: middle;\n",
       "    }\n",
       "\n",
       "    .dataframe tbody tr th {\n",
       "        vertical-align: top;\n",
       "    }\n",
       "\n",
       "    .dataframe thead th {\n",
       "        text-align: right;\n",
       "    }\n",
       "</style>\n",
       "<table border=\"1\" class=\"dataframe\">\n",
       "  <thead>\n",
       "    <tr style=\"text-align: right;\">\n",
       "      <th></th>\n",
       "      <th>DE_ID</th>\n",
       "      <th>rejCount</th>\n",
       "    </tr>\n",
       "  </thead>\n",
       "  <tbody>\n",
       "    <tr>\n",
       "      <th>0</th>\n",
       "      <td>358487</td>\n",
       "      <td>134</td>\n",
       "    </tr>\n",
       "    <tr>\n",
       "      <th>1</th>\n",
       "      <td>1336346</td>\n",
       "      <td>79</td>\n",
       "    </tr>\n",
       "    <tr>\n",
       "      <th>2</th>\n",
       "      <td>257785</td>\n",
       "      <td>76</td>\n",
       "    </tr>\n",
       "    <tr>\n",
       "      <th>3</th>\n",
       "      <td>955179</td>\n",
       "      <td>70</td>\n",
       "    </tr>\n",
       "    <tr>\n",
       "      <th>4</th>\n",
       "      <td>1186729</td>\n",
       "      <td>62</td>\n",
       "    </tr>\n",
       "    <tr>\n",
       "      <th>...</th>\n",
       "      <td>...</td>\n",
       "      <td>...</td>\n",
       "    </tr>\n",
       "    <tr>\n",
       "      <th>862</th>\n",
       "      <td>1249512</td>\n",
       "      <td>1</td>\n",
       "    </tr>\n",
       "    <tr>\n",
       "      <th>863</th>\n",
       "      <td>400556</td>\n",
       "      <td>1</td>\n",
       "    </tr>\n",
       "    <tr>\n",
       "      <th>864</th>\n",
       "      <td>375535</td>\n",
       "      <td>1</td>\n",
       "    </tr>\n",
       "    <tr>\n",
       "      <th>865</th>\n",
       "      <td>1193854</td>\n",
       "      <td>1</td>\n",
       "    </tr>\n",
       "    <tr>\n",
       "      <th>866</th>\n",
       "      <td>1195917</td>\n",
       "      <td>1</td>\n",
       "    </tr>\n",
       "  </tbody>\n",
       "</table>\n",
       "<p>867 rows × 2 columns</p>\n",
       "</div>"
      ],
      "text/plain": [
       "       DE_ID  rejCount\n",
       "0     358487       134\n",
       "1    1336346        79\n",
       "2     257785        76\n",
       "3     955179        70\n",
       "4    1186729        62\n",
       "..       ...       ...\n",
       "862  1249512         1\n",
       "863   400556         1\n",
       "864   375535         1\n",
       "865  1193854         1\n",
       "866  1195917         1\n",
       "\n",
       "[867 rows x 2 columns]"
      ]
     },
     "execution_count": 78,
     "metadata": {},
     "output_type": "execute_result"
    }
   ],
   "source": [
    "temp1=rejected_orders['DE_ID'].value_counts()\n",
    "rejected_orders_freq = pd.DataFrame(list(temp1.items()),columns=['DE_ID','rejCount'])\n",
    "\n",
    "rejected_orders_freq\n",
    "\n",
    "\n"
   ]
  },
  {
   "cell_type": "code",
   "execution_count": 83,
   "metadata": {},
   "outputs": [
    {
     "data": {
      "text/html": [
       "<div>\n",
       "<style scoped>\n",
       "    .dataframe tbody tr th:only-of-type {\n",
       "        vertical-align: middle;\n",
       "    }\n",
       "\n",
       "    .dataframe tbody tr th {\n",
       "        vertical-align: top;\n",
       "    }\n",
       "\n",
       "    .dataframe thead th {\n",
       "        text-align: right;\n",
       "    }\n",
       "</style>\n",
       "<table border=\"1\" class=\"dataframe\">\n",
       "  <thead>\n",
       "    <tr style=\"text-align: right;\">\n",
       "      <th></th>\n",
       "      <th>DE_ID</th>\n",
       "      <th>accCount</th>\n",
       "    </tr>\n",
       "  </thead>\n",
       "  <tbody>\n",
       "    <tr>\n",
       "      <th>0</th>\n",
       "      <td>1186729</td>\n",
       "      <td>419</td>\n",
       "    </tr>\n",
       "    <tr>\n",
       "      <th>1</th>\n",
       "      <td>939796</td>\n",
       "      <td>418</td>\n",
       "    </tr>\n",
       "    <tr>\n",
       "      <th>2</th>\n",
       "      <td>973327</td>\n",
       "      <td>398</td>\n",
       "    </tr>\n",
       "    <tr>\n",
       "      <th>3</th>\n",
       "      <td>1249476</td>\n",
       "      <td>398</td>\n",
       "    </tr>\n",
       "    <tr>\n",
       "      <th>4</th>\n",
       "      <td>234637</td>\n",
       "      <td>380</td>\n",
       "    </tr>\n",
       "    <tr>\n",
       "      <th>...</th>\n",
       "      <td>...</td>\n",
       "      <td>...</td>\n",
       "    </tr>\n",
       "    <tr>\n",
       "      <th>980</th>\n",
       "      <td>271295</td>\n",
       "      <td>1</td>\n",
       "    </tr>\n",
       "    <tr>\n",
       "      <th>981</th>\n",
       "      <td>369722</td>\n",
       "      <td>1</td>\n",
       "    </tr>\n",
       "    <tr>\n",
       "      <th>982</th>\n",
       "      <td>365199</td>\n",
       "      <td>1</td>\n",
       "    </tr>\n",
       "    <tr>\n",
       "      <th>983</th>\n",
       "      <td>287060</td>\n",
       "      <td>1</td>\n",
       "    </tr>\n",
       "    <tr>\n",
       "      <th>984</th>\n",
       "      <td>257096</td>\n",
       "      <td>1</td>\n",
       "    </tr>\n",
       "  </tbody>\n",
       "</table>\n",
       "<p>985 rows × 2 columns</p>\n",
       "</div>"
      ],
      "text/plain": [
       "       DE_ID  accCount\n",
       "0    1186729       419\n",
       "1     939796       418\n",
       "2     973327       398\n",
       "3    1249476       398\n",
       "4     234637       380\n",
       "..       ...       ...\n",
       "980   271295         1\n",
       "981   369722         1\n",
       "982   365199         1\n",
       "983   287060         1\n",
       "984   257096         1\n",
       "\n",
       "[985 rows x 2 columns]"
      ]
     },
     "execution_count": 83,
     "metadata": {},
     "output_type": "execute_result"
    }
   ],
   "source": [
    "temp2=accepted_orders['DE_ID'].value_counts()\n",
    "accepted_orders_freq = pd.DataFrame(list(temp2.items()),columns=['DE_ID','accCount'])\n",
    "accepted_orders_freq"
   ]
  },
  {
   "cell_type": "code",
   "execution_count": 80,
   "metadata": {},
   "outputs": [
    {
     "data": {
      "image/png": "[encoded data removed]",
      "text/plain": [
       "<Figure size 432x288 with 1 Axes>"
      ]
     },
     "metadata": {
      "needs_background": "light"
     },
     "output_type": "display_data"
    }
   ],
   "source": [
    "plt.scatter(rejected_orders_freq['DE_ID'], rejected_orders_freq['rejCount'])\n",
    "plt.show()"
   ]
  },
  {
   "cell_type": "code",
   "execution_count": 81,
   "metadata": {},
   "outputs": [
    {
     "data": {
      "text/plain": [
       "<AxesSubplot:xlabel='DE_ID', ylabel='rejCount'>"
      ]
     },
     "execution_count": 81,
     "metadata": {},
     "output_type": "execute_result"
    },
    {
     "data": {
      "image/png": "[encoded data removed]",
      "text/plain": [
       "<Figure size 432x288 with 1 Axes>"
      ]
     },
     "metadata": {
      "needs_background": "light"
     },
     "output_type": "display_data"
    }
   ],
   "source": [
    "\n",
    "import seaborn as sns\n",
    "sns.scatterplot(x=\"DE_ID\", y=\"rejCount\", data=rejected_orders_freq)"
   ]
  },
  {
   "cell_type": "code",
   "execution_count": 82,
   "metadata": {},
   "outputs": [
    {
     "data": {
      "image/png": "[encoded data removed]",
      "text/plain": [
       "<Figure size 720x720 with 1 Axes>"
      ]
     },
     "metadata": {
      "needs_background": "light"
     },
     "output_type": "display_data"
    }
   ],
   "source": [
    "rejected_orders_freq.plot(x=\"DE_ID\", y=[\"rejCount\"],\n",
    "        kind=\"bar\", figsize=(10, 10))\n",
    "  \n",
    "\n",
    "plt.show()"
   ]
  },
  {
   "cell_type": "code",
   "execution_count": 108,
   "metadata": {},
   "outputs": [
    {
     "data": {
      "text/html": [
       "<div>\n",
       "<style scoped>\n",
       "    .dataframe tbody tr th:only-of-type {\n",
       "        vertical-align: middle;\n",
       "    }\n",
       "\n",
       "    .dataframe tbody tr th {\n",
       "        vertical-align: top;\n",
       "    }\n",
       "\n",
       "    .dataframe thead th {\n",
       "        text-align: right;\n",
       "    }\n",
       "</style>\n",
       "<table border=\"1\" class=\"dataframe\">\n",
       "  <thead>\n",
       "    <tr style=\"text-align: right;\">\n",
       "      <th></th>\n",
       "      <th>DE_ID</th>\n",
       "      <th>rejCount</th>\n",
       "      <th>accCount</th>\n",
       "    </tr>\n",
       "  </thead>\n",
       "  <tbody>\n",
       "    <tr>\n",
       "      <th>0</th>\n",
       "      <td>358487</td>\n",
       "      <td>134.0</td>\n",
       "      <td>172.0</td>\n",
       "    </tr>\n",
       "    <tr>\n",
       "      <th>1</th>\n",
       "      <td>1336346</td>\n",
       "      <td>79.0</td>\n",
       "      <td>169.0</td>\n",
       "    </tr>\n",
       "    <tr>\n",
       "      <th>2</th>\n",
       "      <td>257785</td>\n",
       "      <td>76.0</td>\n",
       "      <td>249.0</td>\n",
       "    </tr>\n",
       "    <tr>\n",
       "      <th>3</th>\n",
       "      <td>955179</td>\n",
       "      <td>70.0</td>\n",
       "      <td>82.0</td>\n",
       "    </tr>\n",
       "    <tr>\n",
       "      <th>4</th>\n",
       "      <td>1186729</td>\n",
       "      <td>62.0</td>\n",
       "      <td>419.0</td>\n",
       "    </tr>\n",
       "    <tr>\n",
       "      <th>...</th>\n",
       "      <td>...</td>\n",
       "      <td>...</td>\n",
       "      <td>...</td>\n",
       "    </tr>\n",
       "    <tr>\n",
       "      <th>986</th>\n",
       "      <td>285000</td>\n",
       "      <td>NaN</td>\n",
       "      <td>1.0</td>\n",
       "    </tr>\n",
       "    <tr>\n",
       "      <th>987</th>\n",
       "      <td>400534</td>\n",
       "      <td>NaN</td>\n",
       "      <td>1.0</td>\n",
       "    </tr>\n",
       "    <tr>\n",
       "      <th>988</th>\n",
       "      <td>271295</td>\n",
       "      <td>NaN</td>\n",
       "      <td>1.0</td>\n",
       "    </tr>\n",
       "    <tr>\n",
       "      <th>989</th>\n",
       "      <td>365199</td>\n",
       "      <td>NaN</td>\n",
       "      <td>1.0</td>\n",
       "    </tr>\n",
       "    <tr>\n",
       "      <th>990</th>\n",
       "      <td>257096</td>\n",
       "      <td>NaN</td>\n",
       "      <td>1.0</td>\n",
       "    </tr>\n",
       "  </tbody>\n",
       "</table>\n",
       "<p>991 rows × 3 columns</p>\n",
       "</div>"
      ],
      "text/plain": [
       "       DE_ID  rejCount  accCount\n",
       "0     358487     134.0     172.0\n",
       "1    1336346      79.0     169.0\n",
       "2     257785      76.0     249.0\n",
       "3     955179      70.0      82.0\n",
       "4    1186729      62.0     419.0\n",
       "..       ...       ...       ...\n",
       "986   285000       NaN       1.0\n",
       "987   400534       NaN       1.0\n",
       "988   271295       NaN       1.0\n",
       "989   365199       NaN       1.0\n",
       "990   257096       NaN       1.0\n",
       "\n",
       "[991 rows x 3 columns]"
      ]
     },
     "execution_count": 108,
     "metadata": {},
     "output_type": "execute_result"
    }
   ],
   "source": [
    "nn=pd.merge(rejected_orders_freq,accepted_orders_freq,how='outer')\n",
    "nn"
   ]
  },
  {
   "cell_type": "code",
   "execution_count": 109,
   "metadata": {},
   "outputs": [
    {
     "data": {
      "text/html": [
       "<div>\n",
       "<style scoped>\n",
       "    .dataframe tbody tr th:only-of-type {\n",
       "        vertical-align: middle;\n",
       "    }\n",
       "\n",
       "    .dataframe tbody tr th {\n",
       "        vertical-align: top;\n",
       "    }\n",
       "\n",
       "    .dataframe thead th {\n",
       "        text-align: right;\n",
       "    }\n",
       "</style>\n",
       "<table border=\"1\" class=\"dataframe\">\n",
       "  <thead>\n",
       "    <tr style=\"text-align: right;\">\n",
       "      <th></th>\n",
       "      <th>DE_ID</th>\n",
       "      <th>rejCount</th>\n",
       "      <th>accCount</th>\n",
       "    </tr>\n",
       "  </thead>\n",
       "  <tbody>\n",
       "    <tr>\n",
       "      <th>567</th>\n",
       "      <td>392092</td>\n",
       "      <td>4.0</td>\n",
       "      <td>NaN</td>\n",
       "    </tr>\n",
       "    <tr>\n",
       "      <th>654</th>\n",
       "      <td>362456</td>\n",
       "      <td>3.0</td>\n",
       "      <td>NaN</td>\n",
       "    </tr>\n",
       "    <tr>\n",
       "      <th>683</th>\n",
       "      <td>339707</td>\n",
       "      <td>2.0</td>\n",
       "      <td>NaN</td>\n",
       "    </tr>\n",
       "    <tr>\n",
       "      <th>746</th>\n",
       "      <td>257791</td>\n",
       "      <td>2.0</td>\n",
       "      <td>NaN</td>\n",
       "    </tr>\n",
       "    <tr>\n",
       "      <th>759</th>\n",
       "      <td>265878</td>\n",
       "      <td>2.0</td>\n",
       "      <td>NaN</td>\n",
       "    </tr>\n",
       "    <tr>\n",
       "      <th>805</th>\n",
       "      <td>1343885</td>\n",
       "      <td>1.0</td>\n",
       "      <td>NaN</td>\n",
       "    </tr>\n",
       "  </tbody>\n",
       "</table>\n",
       "</div>"
      ],
      "text/plain": [
       "       DE_ID  rejCount  accCount\n",
       "567   392092       4.0       NaN\n",
       "654   362456       3.0       NaN\n",
       "683   339707       2.0       NaN\n",
       "746   257791       2.0       NaN\n",
       "759   265878       2.0       NaN\n",
       "805  1343885       1.0       NaN"
      ]
     },
     "execution_count": 109,
     "metadata": {},
     "output_type": "execute_result"
    }
   ],
   "source": [
    "ll=pd.isnull(nn['accCount'])\n",
    "nn[ll]"
   ]
  },
  {
   "cell_type": "code",
   "execution_count": 112,
   "metadata": {},
   "outputs": [],
   "source": [
    "nn=nn.fillna(0)"
   ]
  },
  {
   "cell_type": "code",
   "execution_count": 113,
   "metadata": {},
   "outputs": [
    {
     "data": {
      "text/html": [
       "<div>\n",
       "<style scoped>\n",
       "    .dataframe tbody tr th:only-of-type {\n",
       "        vertical-align: middle;\n",
       "    }\n",
       "\n",
       "    .dataframe tbody tr th {\n",
       "        vertical-align: top;\n",
       "    }\n",
       "\n",
       "    .dataframe thead th {\n",
       "        text-align: right;\n",
       "    }\n",
       "</style>\n",
       "<table border=\"1\" class=\"dataframe\">\n",
       "  <thead>\n",
       "    <tr style=\"text-align: right;\">\n",
       "      <th></th>\n",
       "      <th>DE_ID</th>\n",
       "      <th>rejCount</th>\n",
       "      <th>accCount</th>\n",
       "      <th>totalOrders</th>\n",
       "    </tr>\n",
       "  </thead>\n",
       "  <tbody>\n",
       "    <tr>\n",
       "      <th>0</th>\n",
       "      <td>358487</td>\n",
       "      <td>134.0</td>\n",
       "      <td>172.0</td>\n",
       "      <td>306.0</td>\n",
       "    </tr>\n",
       "    <tr>\n",
       "      <th>1</th>\n",
       "      <td>1336346</td>\n",
       "      <td>79.0</td>\n",
       "      <td>169.0</td>\n",
       "      <td>248.0</td>\n",
       "    </tr>\n",
       "    <tr>\n",
       "      <th>2</th>\n",
       "      <td>257785</td>\n",
       "      <td>76.0</td>\n",
       "      <td>249.0</td>\n",
       "      <td>325.0</td>\n",
       "    </tr>\n",
       "    <tr>\n",
       "      <th>3</th>\n",
       "      <td>955179</td>\n",
       "      <td>70.0</td>\n",
       "      <td>82.0</td>\n",
       "      <td>152.0</td>\n",
       "    </tr>\n",
       "    <tr>\n",
       "      <th>4</th>\n",
       "      <td>1186729</td>\n",
       "      <td>62.0</td>\n",
       "      <td>419.0</td>\n",
       "      <td>481.0</td>\n",
       "    </tr>\n",
       "    <tr>\n",
       "      <th>...</th>\n",
       "      <td>...</td>\n",
       "      <td>...</td>\n",
       "      <td>...</td>\n",
       "      <td>...</td>\n",
       "    </tr>\n",
       "    <tr>\n",
       "      <th>986</th>\n",
       "      <td>285000</td>\n",
       "      <td>0.0</td>\n",
       "      <td>1.0</td>\n",
       "      <td>1.0</td>\n",
       "    </tr>\n",
       "    <tr>\n",
       "      <th>987</th>\n",
       "      <td>400534</td>\n",
       "      <td>0.0</td>\n",
       "      <td>1.0</td>\n",
       "      <td>1.0</td>\n",
       "    </tr>\n",
       "    <tr>\n",
       "      <th>988</th>\n",
       "      <td>271295</td>\n",
       "      <td>0.0</td>\n",
       "      <td>1.0</td>\n",
       "      <td>1.0</td>\n",
       "    </tr>\n",
       "    <tr>\n",
       "      <th>989</th>\n",
       "      <td>365199</td>\n",
       "      <td>0.0</td>\n",
       "      <td>1.0</td>\n",
       "      <td>1.0</td>\n",
       "    </tr>\n",
       "    <tr>\n",
       "      <th>990</th>\n",
       "      <td>257096</td>\n",
       "      <td>0.0</td>\n",
       "      <td>1.0</td>\n",
       "      <td>1.0</td>\n",
       "    </tr>\n",
       "  </tbody>\n",
       "</table>\n",
       "<p>991 rows × 4 columns</p>\n",
       "</div>"
      ],
      "text/plain": [
       "       DE_ID  rejCount  accCount  totalOrders\n",
       "0     358487     134.0     172.0        306.0\n",
       "1    1336346      79.0     169.0        248.0\n",
       "2     257785      76.0     249.0        325.0\n",
       "3     955179      70.0      82.0        152.0\n",
       "4    1186729      62.0     419.0        481.0\n",
       "..       ...       ...       ...          ...\n",
       "986   285000       0.0       1.0          1.0\n",
       "987   400534       0.0       1.0          1.0\n",
       "988   271295       0.0       1.0          1.0\n",
       "989   365199       0.0       1.0          1.0\n",
       "990   257096       0.0       1.0          1.0\n",
       "\n",
       "[991 rows x 4 columns]"
      ]
     },
     "execution_count": 113,
     "metadata": {},
     "output_type": "execute_result"
    }
   ],
   "source": [
    "nn['totalOrders']=nn['rejCount']+nn['accCount']\n",
    "nn"
   ]
  },
  {
   "cell_type": "code",
   "execution_count": 114,
   "metadata": {},
   "outputs": [],
   "source": [
    "nn['rejOrderVsTotalOrder']=nn['rejCount']/nn['totalOrders']"
   ]
  },
  {
   "cell_type": "code",
   "execution_count": 115,
   "metadata": {},
   "outputs": [
    {
     "data": {
      "text/html": [
       "<div>\n",
       "<style scoped>\n",
       "    .dataframe tbody tr th:only-of-type {\n",
       "        vertical-align: middle;\n",
       "    }\n",
       "\n",
       "    .dataframe tbody tr th {\n",
       "        vertical-align: top;\n",
       "    }\n",
       "\n",
       "    .dataframe thead th {\n",
       "        text-align: right;\n",
       "    }\n",
       "</style>\n",
       "<table border=\"1\" class=\"dataframe\">\n",
       "  <thead>\n",
       "    <tr style=\"text-align: right;\">\n",
       "      <th></th>\n",
       "      <th>DE_ID</th>\n",
       "      <th>rejCount</th>\n",
       "      <th>accCount</th>\n",
       "      <th>totalOrders</th>\n",
       "      <th>rejOrderVsTotalOrder</th>\n",
       "    </tr>\n",
       "  </thead>\n",
       "  <tbody>\n",
       "    <tr>\n",
       "      <th>0</th>\n",
       "      <td>358487</td>\n",
       "      <td>134.0</td>\n",
       "      <td>172.0</td>\n",
       "      <td>306.0</td>\n",
       "      <td>0.437908</td>\n",
       "    </tr>\n",
       "    <tr>\n",
       "      <th>1</th>\n",
       "      <td>1336346</td>\n",
       "      <td>79.0</td>\n",
       "      <td>169.0</td>\n",
       "      <td>248.0</td>\n",
       "      <td>0.318548</td>\n",
       "    </tr>\n",
       "    <tr>\n",
       "      <th>2</th>\n",
       "      <td>257785</td>\n",
       "      <td>76.0</td>\n",
       "      <td>249.0</td>\n",
       "      <td>325.0</td>\n",
       "      <td>0.233846</td>\n",
       "    </tr>\n",
       "    <tr>\n",
       "      <th>3</th>\n",
       "      <td>955179</td>\n",
       "      <td>70.0</td>\n",
       "      <td>82.0</td>\n",
       "      <td>152.0</td>\n",
       "      <td>0.460526</td>\n",
       "    </tr>\n",
       "    <tr>\n",
       "      <th>4</th>\n",
       "      <td>1186729</td>\n",
       "      <td>62.0</td>\n",
       "      <td>419.0</td>\n",
       "      <td>481.0</td>\n",
       "      <td>0.128898</td>\n",
       "    </tr>\n",
       "    <tr>\n",
       "      <th>...</th>\n",
       "      <td>...</td>\n",
       "      <td>...</td>\n",
       "      <td>...</td>\n",
       "      <td>...</td>\n",
       "      <td>...</td>\n",
       "    </tr>\n",
       "    <tr>\n",
       "      <th>986</th>\n",
       "      <td>285000</td>\n",
       "      <td>0.0</td>\n",
       "      <td>1.0</td>\n",
       "      <td>1.0</td>\n",
       "      <td>0.000000</td>\n",
       "    </tr>\n",
       "    <tr>\n",
       "      <th>987</th>\n",
       "      <td>400534</td>\n",
       "      <td>0.0</td>\n",
       "      <td>1.0</td>\n",
       "      <td>1.0</td>\n",
       "      <td>0.000000</td>\n",
       "    </tr>\n",
       "    <tr>\n",
       "      <th>988</th>\n",
       "      <td>271295</td>\n",
       "      <td>0.0</td>\n",
       "      <td>1.0</td>\n",
       "      <td>1.0</td>\n",
       "      <td>0.000000</td>\n",
       "    </tr>\n",
       "    <tr>\n",
       "      <th>989</th>\n",
       "      <td>365199</td>\n",
       "      <td>0.0</td>\n",
       "      <td>1.0</td>\n",
       "      <td>1.0</td>\n",
       "      <td>0.000000</td>\n",
       "    </tr>\n",
       "    <tr>\n",
       "      <th>990</th>\n",
       "      <td>257096</td>\n",
       "      <td>0.0</td>\n",
       "      <td>1.0</td>\n",
       "      <td>1.0</td>\n",
       "      <td>0.000000</td>\n",
       "    </tr>\n",
       "  </tbody>\n",
       "</table>\n",
       "<p>991 rows × 5 columns</p>\n",
       "</div>"
      ],
      "text/plain": [
       "       DE_ID  rejCount  accCount  totalOrders  rejOrderVsTotalOrder\n",
       "0     358487     134.0     172.0        306.0              0.437908\n",
       "1    1336346      79.0     169.0        248.0              0.318548\n",
       "2     257785      76.0     249.0        325.0              0.233846\n",
       "3     955179      70.0      82.0        152.0              0.460526\n",
       "4    1186729      62.0     419.0        481.0              0.128898\n",
       "..       ...       ...       ...          ...                   ...\n",
       "986   285000       0.0       1.0          1.0              0.000000\n",
       "987   400534       0.0       1.0          1.0              0.000000\n",
       "988   271295       0.0       1.0          1.0              0.000000\n",
       "989   365199       0.0       1.0          1.0              0.000000\n",
       "990   257096       0.0       1.0          1.0              0.000000\n",
       "\n",
       "[991 rows x 5 columns]"
      ]
     },
     "execution_count": 115,
     "metadata": {},
     "output_type": "execute_result"
    }
   ],
   "source": [
    "nn"
   ]
  },
  {
   "cell_type": "code",
   "execution_count": 127,
   "metadata": {},
   "outputs": [
    {
     "data": {
      "image/png": "[encoded data removed]",
      "text/plain": [
       "<Figure size 432x288 with 1 Axes>"
      ]
     },
     "metadata": {
      "needs_background": "light"
     },
     "output_type": "display_data"
    }
   ],
   "source": [
    "plt.hist(nn['rejOrderVsTotalOrder'],bins=200)\n",
    "plt.show()"
   ]
  },
  {
   "cell_type": "markdown",
   "metadata": {},
   "source": [
    "clearly the number of rejected orders are higher in case of some delivery partners"
   ]
  },
  {
   "cell_type": "code",
   "execution_count": 129,
   "metadata": {},
   "outputs": [
    {
     "data": {
      "text/plain": [
       "Type-1    3853\n",
       "Type-2    2007\n",
       "Type-3    1449\n",
       "Type-4     739\n",
       "Name: reject_type, dtype: int64"
      ]
     },
     "execution_count": 129,
     "metadata": {},
     "output_type": "execute_result"
    }
   ],
   "source": [
    "rejected_orders['reject_type'].value_counts()"
   ]
  },
  {
   "cell_type": "code",
   "execution_count": 145,
   "metadata": {},
   "outputs": [
    {
     "data": {
      "text/html": [
       "<div>\n",
       "<style scoped>\n",
       "    .dataframe tbody tr th:only-of-type {\n",
       "        vertical-align: middle;\n",
       "    }\n",
       "\n",
       "    .dataframe tbody tr th {\n",
       "        vertical-align: top;\n",
       "    }\n",
       "\n",
       "    .dataframe thead th {\n",
       "        text-align: right;\n",
       "    }\n",
       "</style>\n",
       "<table border=\"1\" class=\"dataframe\">\n",
       "  <thead>\n",
       "    <tr style=\"text-align: right;\">\n",
       "      <th></th>\n",
       "      <th>ORDER_ID</th>\n",
       "      <th>DE_ID</th>\n",
       "      <th>ASSIGNMENT_START_TIME</th>\n",
       "      <th>ASSIGNMENT_END_TIME</th>\n",
       "      <th>reject_ind</th>\n",
       "      <th>reject_type</th>\n",
       "      <th>PLACED_TIME</th>\n",
       "      <th>DELIVERED_TIME</th>\n",
       "      <th>LASTMILE_DISTANCE</th>\n",
       "      <th>FIRSTMILE_DISTANCE</th>\n",
       "      <th>LAST_MILE_TIME_PREDICTED</th>\n",
       "      <th>PAYOUT_MADE_TO_DE</th>\n",
       "      <th>NUM_PING_COUNT_LAST10MIN</th>\n",
       "      <th>LAST_PING_TIME_LAST10MIN</th>\n",
       "      <th>CUSTOMER_ZONE</th>\n",
       "      <th>CUSTOMER_LAT</th>\n",
       "      <th>CUSTOMER_LNG</th>\n",
       "    </tr>\n",
       "  </thead>\n",
       "  <tbody>\n",
       "    <tr>\n",
       "      <th>12</th>\n",
       "      <td>27214</td>\n",
       "      <td>842009</td>\n",
       "      <td>2021-02-17 07:18:39.000</td>\n",
       "      <td>2021-02-17 07:21:39.000</td>\n",
       "      <td>1</td>\n",
       "      <td>Type-2</td>\n",
       "      <td>2021-02-17 07:16:39.820</td>\n",
       "      <td>2021-02-17 08:15:43.000</td>\n",
       "      <td>482.0</td>\n",
       "      <td>344.9</td>\n",
       "      <td>407.5</td>\n",
       "      <td>0.0</td>\n",
       "      <td>5</td>\n",
       "      <td>2021-02-17 07:17:51.000</td>\n",
       "      <td>373.0</td>\n",
       "      <td>37.378988</td>\n",
       "      <td>72.826523</td>\n",
       "    </tr>\n",
       "    <tr>\n",
       "      <th>38</th>\n",
       "      <td>67253</td>\n",
       "      <td>1186729</td>\n",
       "      <td>2021-02-24 05:14:34.000</td>\n",
       "      <td>2021-02-24 05:17:33.000</td>\n",
       "      <td>1</td>\n",
       "      <td>Type-2</td>\n",
       "      <td>2021-02-24 05:04:31.363</td>\n",
       "      <td>2021-02-24 05:38:00.000</td>\n",
       "      <td>397.1</td>\n",
       "      <td>447.8</td>\n",
       "      <td>376.5</td>\n",
       "      <td>0.0</td>\n",
       "      <td>9</td>\n",
       "      <td>2021-02-24 05:14:19.000</td>\n",
       "      <td>373.0</td>\n",
       "      <td>37.376211</td>\n",
       "      <td>72.829547</td>\n",
       "    </tr>\n",
       "    <tr>\n",
       "      <th>44</th>\n",
       "      <td>81535</td>\n",
       "      <td>1339906</td>\n",
       "      <td>2021-02-26 05:26:33.000</td>\n",
       "      <td>2021-02-26 05:30:30.000</td>\n",
       "      <td>1</td>\n",
       "      <td>Type-1</td>\n",
       "      <td>2021-02-26 05:21:48.465</td>\n",
       "      <td>2021-02-26 05:59:32.000</td>\n",
       "      <td>512.9</td>\n",
       "      <td>336.8</td>\n",
       "      <td>417.0</td>\n",
       "      <td>0.0</td>\n",
       "      <td>65</td>\n",
       "      <td>2021-02-26 05:26:18.000</td>\n",
       "      <td>373.0</td>\n",
       "      <td>37.376206</td>\n",
       "      <td>72.814922</td>\n",
       "    </tr>\n",
       "    <tr>\n",
       "      <th>47</th>\n",
       "      <td>86851</td>\n",
       "      <td>263776</td>\n",
       "      <td>2021-02-27 05:32:33.000</td>\n",
       "      <td>2021-02-27 05:35:33.000</td>\n",
       "      <td>1</td>\n",
       "      <td>Type-4</td>\n",
       "      <td>2021-02-27 05:25:10.639</td>\n",
       "      <td>2021-02-27 06:03:22.000</td>\n",
       "      <td>527.3</td>\n",
       "      <td>405.5</td>\n",
       "      <td>410.8</td>\n",
       "      <td>0.0</td>\n",
       "      <td>16</td>\n",
       "      <td>2021-02-27 05:31:27.000</td>\n",
       "      <td>373.0</td>\n",
       "      <td>37.375672</td>\n",
       "      <td>72.800895</td>\n",
       "    </tr>\n",
       "    <tr>\n",
       "      <th>56</th>\n",
       "      <td>101742</td>\n",
       "      <td>392348</td>\n",
       "      <td>2021-03-02 02:39:20.000</td>\n",
       "      <td>2021-03-02 02:42:20.000</td>\n",
       "      <td>1</td>\n",
       "      <td>Type-2</td>\n",
       "      <td>2021-03-02 02:32:47.165</td>\n",
       "      <td>2021-03-02 03:32:32.000</td>\n",
       "      <td>556.1</td>\n",
       "      <td>436.7</td>\n",
       "      <td>486.7</td>\n",
       "      <td>0.0</td>\n",
       "      <td>5</td>\n",
       "      <td>2021-03-02 02:31:43.000</td>\n",
       "      <td>373.0</td>\n",
       "      <td>37.376254</td>\n",
       "      <td>72.806285</td>\n",
       "    </tr>\n",
       "    <tr>\n",
       "      <th>...</th>\n",
       "      <td>...</td>\n",
       "      <td>...</td>\n",
       "      <td>...</td>\n",
       "      <td>...</td>\n",
       "      <td>...</td>\n",
       "      <td>...</td>\n",
       "      <td>...</td>\n",
       "      <td>...</td>\n",
       "      <td>...</td>\n",
       "      <td>...</td>\n",
       "      <td>...</td>\n",
       "      <td>...</td>\n",
       "      <td>...</td>\n",
       "      <td>...</td>\n",
       "      <td>...</td>\n",
       "      <td>...</td>\n",
       "      <td>...</td>\n",
       "    </tr>\n",
       "    <tr>\n",
       "      <th>132288</th>\n",
       "      <td>96558</td>\n",
       "      <td>642496</td>\n",
       "      <td>2021-03-01 02:41:52.000</td>\n",
       "      <td>2021-03-01 03:34:41.034</td>\n",
       "      <td>1</td>\n",
       "      <td>Type-3</td>\n",
       "      <td>2021-03-01 02:38:26.376</td>\n",
       "      <td>2021-03-01 04:07:55.000</td>\n",
       "      <td>448.1</td>\n",
       "      <td>401.9</td>\n",
       "      <td>443.0</td>\n",
       "      <td>0.0</td>\n",
       "      <td>22</td>\n",
       "      <td>2021-03-01 02:41:53.000</td>\n",
       "      <td>374.0</td>\n",
       "      <td>37.361493</td>\n",
       "      <td>72.854304</td>\n",
       "    </tr>\n",
       "    <tr>\n",
       "      <th>132340</th>\n",
       "      <td>3906</td>\n",
       "      <td>378703</td>\n",
       "      <td>2021-02-13 04:52:40.000</td>\n",
       "      <td>2021-02-13 04:55:42.000</td>\n",
       "      <td>1</td>\n",
       "      <td>Type-2</td>\n",
       "      <td>2021-02-13 04:34:21.622</td>\n",
       "      <td>2021-02-13 05:15:22.000</td>\n",
       "      <td>371.9</td>\n",
       "      <td>357.5</td>\n",
       "      <td>365.0</td>\n",
       "      <td>0.0</td>\n",
       "      <td>11</td>\n",
       "      <td>2021-02-13 04:51:49.000</td>\n",
       "      <td>374.0</td>\n",
       "      <td>37.373024</td>\n",
       "      <td>72.839131</td>\n",
       "    </tr>\n",
       "    <tr>\n",
       "      <th>132345</th>\n",
       "      <td>23364</td>\n",
       "      <td>243161</td>\n",
       "      <td>2021-02-16 22:20:40.000</td>\n",
       "      <td>2021-02-16 22:52:27.000</td>\n",
       "      <td>1</td>\n",
       "      <td>Type-1</td>\n",
       "      <td>2021-02-16 22:13:08.969</td>\n",
       "      <td>2021-02-16 23:20:04.000</td>\n",
       "      <td>425.9</td>\n",
       "      <td>494.6</td>\n",
       "      <td>406.0</td>\n",
       "      <td>0.0</td>\n",
       "      <td>7</td>\n",
       "      <td>2021-02-16 22:18:41.000</td>\n",
       "      <td>374.0</td>\n",
       "      <td>37.372996</td>\n",
       "      <td>72.850286</td>\n",
       "    </tr>\n",
       "    <tr>\n",
       "      <th>132386</th>\n",
       "      <td>107834</td>\n",
       "      <td>395956</td>\n",
       "      <td>2021-03-03 03:33:21.000</td>\n",
       "      <td>2021-03-03 03:36:20.000</td>\n",
       "      <td>1</td>\n",
       "      <td>Type-4</td>\n",
       "      <td>2021-03-03 03:27:12.582</td>\n",
       "      <td>2021-03-03 04:08:31.000</td>\n",
       "      <td>460.4</td>\n",
       "      <td>383.6</td>\n",
       "      <td>458.0</td>\n",
       "      <td>0.0</td>\n",
       "      <td>45</td>\n",
       "      <td>2021-03-03 03:32:40.000</td>\n",
       "      <td>374.0</td>\n",
       "      <td>37.366997</td>\n",
       "      <td>72.841034</td>\n",
       "    </tr>\n",
       "    <tr>\n",
       "      <th>132390</th>\n",
       "      <td>116618</td>\n",
       "      <td>234637</td>\n",
       "      <td>2021-03-04 07:05:20.000</td>\n",
       "      <td>2021-03-04 07:07:19.000</td>\n",
       "      <td>1</td>\n",
       "      <td>Type-1</td>\n",
       "      <td>2021-03-04 06:55:15.466</td>\n",
       "      <td>2021-03-04 07:42:54.000</td>\n",
       "      <td>404.6</td>\n",
       "      <td>444.8</td>\n",
       "      <td>371.8</td>\n",
       "      <td>0.0</td>\n",
       "      <td>63</td>\n",
       "      <td>2021-03-04 07:04:40.000</td>\n",
       "      <td>374.0</td>\n",
       "      <td>37.365616</td>\n",
       "      <td>72.835463</td>\n",
       "    </tr>\n",
       "  </tbody>\n",
       "</table>\n",
       "<p>8048 rows × 17 columns</p>\n",
       "</div>"
      ],
      "text/plain": [
       "        ORDER_ID    DE_ID    ASSIGNMENT_START_TIME      ASSIGNMENT_END_TIME  \\\n",
       "12         27214   842009  2021-02-17 07:18:39.000  2021-02-17 07:21:39.000   \n",
       "38         67253  1186729  2021-02-24 05:14:34.000  2021-02-24 05:17:33.000   \n",
       "44         81535  1339906  2021-02-26 05:26:33.000  2021-02-26 05:30:30.000   \n",
       "47         86851   263776  2021-02-27 05:32:33.000  2021-02-27 05:35:33.000   \n",
       "56        101742   392348  2021-03-02 02:39:20.000  2021-03-02 02:42:20.000   \n",
       "...          ...      ...                      ...                      ...   \n",
       "132288     96558   642496  2021-03-01 02:41:52.000  2021-03-01 03:34:41.034   \n",
       "132340      3906   378703  2021-02-13 04:52:40.000  2021-02-13 04:55:42.000   \n",
       "132345     23364   243161  2021-02-16 22:20:40.000  2021-02-16 22:52:27.000   \n",
       "132386    107834   395956  2021-03-03 03:33:21.000  2021-03-03 03:36:20.000   \n",
       "132390    116618   234637  2021-03-04 07:05:20.000  2021-03-04 07:07:19.000   \n",
       "\n",
       "        reject_ind reject_type              PLACED_TIME  \\\n",
       "12               1      Type-2  2021-02-17 07:16:39.820   \n",
       "38               1      Type-2  2021-02-24 05:04:31.363   \n",
       "44               1      Type-1  2021-02-26 05:21:48.465   \n",
       "47               1      Type-4  2021-02-27 05:25:10.639   \n",
       "56               1      Type-2  2021-03-02 02:32:47.165   \n",
       "...            ...         ...                      ...   \n",
       "132288           1      Type-3  2021-03-01 02:38:26.376   \n",
       "132340           1      Type-2  2021-02-13 04:34:21.622   \n",
       "132345           1      Type-1  2021-02-16 22:13:08.969   \n",
       "132386           1      Type-4  2021-03-03 03:27:12.582   \n",
       "132390           1      Type-1  2021-03-04 06:55:15.466   \n",
       "\n",
       "                 DELIVERED_TIME  LASTMILE_DISTANCE  FIRSTMILE_DISTANCE  \\\n",
       "12      2021-02-17 08:15:43.000              482.0               344.9   \n",
       "38      2021-02-24 05:38:00.000              397.1               447.8   \n",
       "44      2021-02-26 05:59:32.000              512.9               336.8   \n",
       "47      2021-02-27 06:03:22.000              527.3               405.5   \n",
       "56      2021-03-02 03:32:32.000              556.1               436.7   \n",
       "...                         ...                ...                 ...   \n",
       "132288  2021-03-01 04:07:55.000              448.1               401.9   \n",
       "132340  2021-02-13 05:15:22.000              371.9               357.5   \n",
       "132345  2021-02-16 23:20:04.000              425.9               494.6   \n",
       "132386  2021-03-03 04:08:31.000              460.4               383.6   \n",
       "132390  2021-03-04 07:42:54.000              404.6               444.8   \n",
       "\n",
       "        LAST_MILE_TIME_PREDICTED  PAYOUT_MADE_TO_DE  NUM_PING_COUNT_LAST10MIN  \\\n",
       "12                         407.5                0.0                         5   \n",
       "38                         376.5                0.0                         9   \n",
       "44                         417.0                0.0                        65   \n",
       "47                         410.8                0.0                        16   \n",
       "56                         486.7                0.0                         5   \n",
       "...                          ...                ...                       ...   \n",
       "132288                     443.0                0.0                        22   \n",
       "132340                     365.0                0.0                        11   \n",
       "132345                     406.0                0.0                         7   \n",
       "132386                     458.0                0.0                        45   \n",
       "132390                     371.8                0.0                        63   \n",
       "\n",
       "       LAST_PING_TIME_LAST10MIN  CUSTOMER_ZONE  CUSTOMER_LAT  CUSTOMER_LNG  \n",
       "12      2021-02-17 07:17:51.000          373.0     37.378988     72.826523  \n",
       "38      2021-02-24 05:14:19.000          373.0     37.376211     72.829547  \n",
       "44      2021-02-26 05:26:18.000          373.0     37.376206     72.814922  \n",
       "47      2021-02-27 05:31:27.000          373.0     37.375672     72.800895  \n",
       "56      2021-03-02 02:31:43.000          373.0     37.376254     72.806285  \n",
       "...                         ...            ...           ...           ...  \n",
       "132288  2021-03-01 02:41:53.000          374.0     37.361493     72.854304  \n",
       "132340  2021-02-13 04:51:49.000          374.0     37.373024     72.839131  \n",
       "132345  2021-02-16 22:18:41.000          374.0     37.372996     72.850286  \n",
       "132386  2021-03-03 03:32:40.000          374.0     37.366997     72.841034  \n",
       "132390  2021-03-04 07:04:40.000          374.0     37.365616     72.835463  \n",
       "\n",
       "[8048 rows x 17 columns]"
      ]
     },
     "execution_count": 145,
     "metadata": {},
     "output_type": "execute_result"
    }
   ],
   "source": [
    "rejected_orders"
   ]
  },
  {
   "cell_type": "code",
   "execution_count": 159,
   "metadata": {},
   "outputs": [
    {
     "data": {
      "text/plain": [
       "Int64Index([    12,     38,     44,     47,     56,     72,     73,     80,\n",
       "                81,     87,\n",
       "            ...\n",
       "            132256, 132260, 132261, 132263, 132287, 132288, 132340, 132345,\n",
       "            132386, 132390],\n",
       "           dtype='int64', length=8048)"
      ]
     },
     "execution_count": 159,
     "metadata": {},
     "output_type": "execute_result"
    }
   ],
   "source": [
    "rejected_orders.index"
   ]
  },
  {
   "cell_type": "code",
   "execution_count": 146,
   "metadata": {},
   "outputs": [
    {
     "data": {
      "image/png": "[encoded data removed]",
      "text/plain": [
       "<Figure size 720x720 with 1 Axes>"
      ]
     },
     "metadata": {
      "needs_background": "light"
     },
     "output_type": "display_data"
    }
   ],
   "source": [
    "rejected_orders.plot(y=[\"LASTMILE_DISTANCE\",\"FIRSTMILE_DISTANCE\",\"LAST_MILE_TIME_PREDICTED\",\"NUM_PING_COUNT_LAST10MIN\"],\n",
    "        kind=\"line\", figsize=(10, 10))\n",
    "  \n",
    "\n",
    "plt.show()"
   ]
  },
  {
   "cell_type": "code",
   "execution_count": 164,
   "metadata": {},
   "outputs": [
    {
     "data": {
      "image/png": "[encoded data removed]",
      "text/plain": [
       "<Figure size 432x288 with 1 Axes>"
      ]
     },
     "metadata": {
      "needs_background": "light"
     },
     "output_type": "display_data"
    }
   ],
   "source": [
    "plt.scatter(rejected_orders.index,rejected_orders['NUM_PING_COUNT_LAST10MIN'],c='blue')\n",
    "plt.show()"
   ]
  },
  {
   "cell_type": "code",
   "execution_count": 165,
   "metadata": {},
   "outputs": [
    {
     "data": {
      "image/png": "[encoded data removed]",
      "text/plain": [
       "<Figure size 432x288 with 1 Axes>"
      ]
     },
     "metadata": {
      "needs_background": "light"
     },
     "output_type": "display_data"
    }
   ],
   "source": [
    "plt.scatter(accepted_orders.index,accepted_orders['NUM_PING_COUNT_LAST10MIN'],c='red')\n",
    "plt.show()"
   ]
  },
  {
   "cell_type": "code",
   "execution_count": 166,
   "metadata": {},
   "outputs": [
    {
     "data": {
      "text/plain": [
       "20.105740556660038"
      ]
     },
     "execution_count": 166,
     "metadata": {},
     "output_type": "execute_result"
    }
   ],
   "source": [
    "rejected_orders['NUM_PING_COUNT_LAST10MIN'].mean()"
   ]
  },
  {
   "cell_type": "code",
   "execution_count": 167,
   "metadata": {},
   "outputs": [
    {
     "data": {
      "text/plain": [
       "24.428160133820146"
      ]
     },
     "execution_count": 167,
     "metadata": {},
     "output_type": "execute_result"
    }
   ],
   "source": [
    "accepted_orders['NUM_PING_COUNT_LAST10MIN'].mean()"
   ]
  },
  {
   "cell_type": "code",
   "execution_count": 168,
   "metadata": {},
   "outputs": [
    {
     "data": {
      "text/plain": [
       "15.0"
      ]
     },
     "execution_count": 168,
     "metadata": {},
     "output_type": "execute_result"
    }
   ],
   "source": [
    "rejected_orders['NUM_PING_COUNT_LAST10MIN'].median()"
   ]
  },
  {
   "cell_type": "code",
   "execution_count": 169,
   "metadata": {},
   "outputs": [
    {
     "data": {
      "text/plain": [
       "20.0"
      ]
     },
     "execution_count": 169,
     "metadata": {},
     "output_type": "execute_result"
    }
   ],
   "source": [
    "accepted_orders['NUM_PING_COUNT_LAST10MIN'].median()"
   ]
  },
  {
   "cell_type": "code",
   "execution_count": 175,
   "metadata": {},
   "outputs": [
    {
     "data": {
      "text/plain": [
       "441.2"
      ]
     },
     "execution_count": 175,
     "metadata": {},
     "output_type": "execute_result"
    }
   ],
   "source": [
    "rejected_orders['LASTMILE_DISTANCE'].median()"
   ]
  },
  {
   "cell_type": "code",
   "execution_count": 176,
   "metadata": {},
   "outputs": [
    {
     "data": {
      "text/plain": [
       "413.9"
      ]
     },
     "execution_count": 176,
     "metadata": {},
     "output_type": "execute_result"
    }
   ],
   "source": [
    "accepted_orders['LASTMILE_DISTANCE'].median()"
   ]
  },
  {
   "cell_type": "markdown",
   "metadata": {},
   "source": [
    "On average when the orders were rejected, Last mile distance was more than when the orders were accepted. Thus it could be one the factors affecting the order rejection."
   ]
  },
  {
   "cell_type": "code",
   "execution_count": 178,
   "metadata": {},
   "outputs": [
    {
     "ename": "AttributeError",
     "evalue": "'DataFrame' object has no attribute 'subplot'",
     "output_type": "error",
     "traceback": [
      "\u001b[0;31m---------------------------------------------------------------------------\u001b[0m",
      "\u001b[0;31mAttributeError\u001b[0m                            Traceback (most recent call last)",
      "\u001b[0;32m<ipython-input-178-20683491edd5>\u001b[0m in \u001b[0;36m<module>\u001b[0;34m\u001b[0m\n\u001b[0;32m----> 1\u001b[0;31m rejected_orders.subplot(y=[\"LASTMILE_DISTANCE\"],\n\u001b[0m\u001b[1;32m      2\u001b[0m         kind=\"line\", figsize=(10, 10))\n\u001b[1;32m      3\u001b[0m \u001b[0;34m\u001b[0m\u001b[0m\n\u001b[1;32m      4\u001b[0m accepted_orders.subplot(y=[\"LASTMILE_DISTANCE\"],\n\u001b[1;32m      5\u001b[0m         kind=\"line\", figsize=(10, 10))\n",
      "\u001b[0;32m~/opt/anaconda3/lib/python3.8/site-packages/pandas/core/generic.py\u001b[0m in \u001b[0;36m__getattr__\u001b[0;34m(self, name)\u001b[0m\n\u001b[1;32m   5485\u001b[0m         ):\n\u001b[1;32m   5486\u001b[0m             \u001b[0;32mreturn\u001b[0m \u001b[0mself\u001b[0m\u001b[0;34m[\u001b[0m\u001b[0mname\u001b[0m\u001b[0;34m]\u001b[0m\u001b[0;34m\u001b[0m\u001b[0;34m\u001b[0m\u001b[0m\n\u001b[0;32m-> 5487\u001b[0;31m         \u001b[0;32mreturn\u001b[0m \u001b[0mobject\u001b[0m\u001b[0;34m.\u001b[0m\u001b[0m__getattribute__\u001b[0m\u001b[0;34m(\u001b[0m\u001b[0mself\u001b[0m\u001b[0;34m,\u001b[0m \u001b[0mname\u001b[0m\u001b[0;34m)\u001b[0m\u001b[0;34m\u001b[0m\u001b[0;34m\u001b[0m\u001b[0m\n\u001b[0m\u001b[1;32m   5488\u001b[0m \u001b[0;34m\u001b[0m\u001b[0m\n\u001b[1;32m   5489\u001b[0m     \u001b[0;32mdef\u001b[0m \u001b[0m__setattr__\u001b[0m\u001b[0;34m(\u001b[0m\u001b[0mself\u001b[0m\u001b[0;34m,\u001b[0m \u001b[0mname\u001b[0m\u001b[0;34m:\u001b[0m \u001b[0mstr\u001b[0m\u001b[0;34m,\u001b[0m \u001b[0mvalue\u001b[0m\u001b[0;34m)\u001b[0m \u001b[0;34m->\u001b[0m \u001b[0;32mNone\u001b[0m\u001b[0;34m:\u001b[0m\u001b[0;34m\u001b[0m\u001b[0;34m\u001b[0m\u001b[0m\n",
      "\u001b[0;31mAttributeError\u001b[0m: 'DataFrame' object has no attribute 'subplot'"
     ]
    }
   ],
   "source": [
    "rejected_orders.plot(y=[\"LASTMILE_DISTANCE\"],\n",
    "        kind=\"line\", figsize=(10, 10))\n",
    "  \n",
    "accepted_orders.plot(y=[\"LASTMILE_DISTANCE\"],\n",
    "        kind=\"line\", figsize=(10, 10))\n",
    "  \n",
    "  \n",
    "plt.show()"
   ]
  }
 ],
 "metadata": {
  "interpreter": {
   "hash": "9dff067c7937817354a0390f424b09ef35079e94da370ceed4ce836ff38114cc"
  },
  "kernelspec": {
   "display_name": "Python 3.8.5 64-bit ('base': conda)",
   "language": "python",
   "name": "python3"
  },
  "language_info": {
   "codemirror_mode": {
    "name": "ipython",
    "version": 3
   },
   "file_extension": ".py",
   "mimetype": "text/x-python",
   "name": "python",
   "nbconvert_exporter": "python",
   "pygments_lexer": "ipython3",
   "version": "3.8.5"
  },
  "orig_nbformat": 4
 },
 "nbformat": 4,
 "nbformat_minor": 2
}
